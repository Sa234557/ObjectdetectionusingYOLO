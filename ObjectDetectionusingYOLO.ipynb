{
 "cells": [
  {
   "cell_type": "code",
   "execution_count": 6,
   "id": "98eea8f5-8928-4e2d-9218-d2c9519dfb46",
   "metadata": {},
   "outputs": [
    {
     "name": "stdout",
     "output_type": "stream",
     "text": [
      "\n",
      "0: 416x640 12 cars, 1 bus, 4 trucks, 119.0ms\n",
      "Speed: 4.0ms preprocess, 119.0ms inference, 15.6ms postprocess per image at shape (1, 3, 416, 640)\n"
     ]
    }
   ],
   "source": [
    "import cv2\n",
    "from ultralytics import YOLO\n",
    "\n",
    "\n",
    "model = YOLO('yolov8s.pt')  \n",
    "\n",
    "\n",
    "def getColours(cls_num):\n",
    "    base_colors = [(255, 0, 0), (0, 255, 0), (0, 0, 255)]\n",
    "    color_index = cls_num % len(base_colors)\n",
    "    increments = [(1, -2, 1), (-2, 1, -1), (1, -1, 2)]\n",
    "    color = [base_colors[color_index][i] + increments[color_index][i] * \n",
    "             (cls_num // len(base_colors)) % 256 for i in range(3)]\n",
    "    return tuple(color)\n",
    "\n",
    "\n",
    "image_path = r\"C:\\Users\\HP\\Documents\\btp\\istockphoto-513106144-612x612.jpg\"\n",
    "\n",
    "\n",
    "frame = cv2.imread(image_path)\n",
    "\n",
    "\n",
    "results = model(frame)\n",
    "\n",
    "\n",
    "for result in results:\n",
    "    classes_names = result.names\n",
    "    for box in result.boxes:\n",
    "        if box.conf[0] > 0.4:  \n",
    "            \n",
    "            [x1, y1, x2, y2] = box.xyxy[0].int().tolist()\n",
    "            \n",
    "            \n",
    "            cls = int(box.cls[0])\n",
    "            class_name = classes_names[cls]\n",
    "            \n",
    "            \n",
    "            colour = getColours(cls)\n",
    "            \n",
    "           \n",
    "            cv2.rectangle(frame, (x1, y1), (x2, y2), colour, 2)\n",
    "            cv2.putText(frame, f'{class_name} {box.conf[0]:.2f}', \n",
    "                        (x1, y1 - 10), cv2.FONT_HERSHEY_SIMPLEX, 0.5, colour, 2)\n",
    "\n",
    "\n",
    "cv2.imshow('Object Detection', frame)\n",
    "cv2.waitKey(0)\n",
    "\n",
    "\n",
    "cv2.destroyAllWindows()\n"
   ]
  },
  {
   "cell_type": "code",
   "execution_count": null,
   "id": "2ddde40e-5039-4bc1-80a2-39f16ee48bfd",
   "metadata": {},
   "outputs": [],
   "source": []
  }
 ],
 "metadata": {
  "kernelspec": {
   "display_name": "Python 3 (ipykernel)",
   "language": "python",
   "name": "python3"
  },
  "language_info": {
   "codemirror_mode": {
    "name": "ipython",
    "version": 3
   },
   "file_extension": ".py",
   "mimetype": "text/x-python",
   "name": "python",
   "nbconvert_exporter": "python",
   "pygments_lexer": "ipython3",
   "version": "3.11.7"
  }
 },
 "nbformat": 4,
 "nbformat_minor": 5
}
